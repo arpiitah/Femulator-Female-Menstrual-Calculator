{
 "cells": [
  {
   "cell_type": "code",
   "execution_count": 3,
   "id": "11dcb550",
   "metadata": {},
   "outputs": [
    {
     "data": {
      "text/html": [
       "<div>\n",
       "<style scoped>\n",
       "    .dataframe tbody tr th:only-of-type {\n",
       "        vertical-align: middle;\n",
       "    }\n",
       "\n",
       "    .dataframe tbody tr th {\n",
       "        vertical-align: top;\n",
       "    }\n",
       "\n",
       "    .dataframe thead th {\n",
       "        text-align: right;\n",
       "    }\n",
       "</style>\n",
       "<table border=\"1\" class=\"dataframe\">\n",
       "  <thead>\n",
       "    <tr style=\"text-align: right;\">\n",
       "      <th></th>\n",
       "      <th>LengthofCycle</th>\n",
       "      <th>EstimatedDayofOvulation</th>\n",
       "      <th>LengthofMenses</th>\n",
       "      <th>Age</th>\n",
       "      <th>Height</th>\n",
       "      <th>Weight</th>\n",
       "      <th>BMI</th>\n",
       "    </tr>\n",
       "  </thead>\n",
       "  <tbody>\n",
       "    <tr>\n",
       "      <th>0</th>\n",
       "      <td>29</td>\n",
       "      <td>17</td>\n",
       "      <td>5</td>\n",
       "      <td>36</td>\n",
       "      <td>157.5</td>\n",
       "      <td>54</td>\n",
       "      <td>21.25</td>\n",
       "    </tr>\n",
       "    <tr>\n",
       "      <th>1</th>\n",
       "      <td>28</td>\n",
       "      <td>14</td>\n",
       "      <td>4</td>\n",
       "      <td>39</td>\n",
       "      <td>170.0</td>\n",
       "      <td>84</td>\n",
       "      <td>28.13</td>\n",
       "    </tr>\n",
       "    <tr>\n",
       "      <th>2</th>\n",
       "      <td>29</td>\n",
       "      <td>19</td>\n",
       "      <td>7</td>\n",
       "      <td>29</td>\n",
       "      <td>165.0</td>\n",
       "      <td>81</td>\n",
       "      <td>29.05</td>\n",
       "    </tr>\n",
       "    <tr>\n",
       "      <th>3</th>\n",
       "      <td>23</td>\n",
       "      <td>14</td>\n",
       "      <td>7</td>\n",
       "      <td>29</td>\n",
       "      <td>165.0</td>\n",
       "      <td>81</td>\n",
       "      <td>29.05</td>\n",
       "    </tr>\n",
       "    <tr>\n",
       "      <th>4</th>\n",
       "      <td>28</td>\n",
       "      <td>18</td>\n",
       "      <td>4</td>\n",
       "      <td>26</td>\n",
       "      <td>165.0</td>\n",
       "      <td>81</td>\n",
       "      <td>29.05</td>\n",
       "    </tr>\n",
       "  </tbody>\n",
       "</table>\n",
       "</div>"
      ],
      "text/plain": [
       "   LengthofCycle  EstimatedDayofOvulation  LengthofMenses  Age  Height  \\\n",
       "0             29                       17               5   36   157.5   \n",
       "1             28                       14               4   39   170.0   \n",
       "2             29                       19               7   29   165.0   \n",
       "3             23                       14               7   29   165.0   \n",
       "4             28                       18               4   26   165.0   \n",
       "\n",
       "   Weight    BMI  \n",
       "0      54  21.25  \n",
       "1      84  28.13  \n",
       "2      81  29.05  \n",
       "3      81  29.05  \n",
       "4      81  29.05  "
      ]
     },
     "execution_count": 3,
     "metadata": {},
     "output_type": "execute_result"
    }
   ],
   "source": [
    "import pandas as pd\n",
    "import numpy as np\n",
    "df = pd.read_csv(r\"C:\\Users\\user\\Downloads\\fem_cleaned_new.csv\")\n",
    "df.head()"
   ]
  },
  {
   "cell_type": "code",
   "execution_count": 4,
   "id": "4673d6f6",
   "metadata": {},
   "outputs": [
    {
     "name": "stdout",
     "output_type": "stream",
     "text": [
      "<class 'pandas.core.frame.DataFrame'>\n",
      "RangeIndex: 183 entries, 0 to 182\n",
      "Data columns (total 7 columns):\n",
      " #   Column                   Non-Null Count  Dtype  \n",
      "---  ------                   --------------  -----  \n",
      " 0   LengthofCycle            183 non-null    int64  \n",
      " 1   EstimatedDayofOvulation  183 non-null    int64  \n",
      " 2   LengthofMenses           183 non-null    int64  \n",
      " 3   Age                      183 non-null    int64  \n",
      " 4   Height                   183 non-null    float64\n",
      " 5   Weight                   183 non-null    int64  \n",
      " 6   BMI                      183 non-null    float64\n",
      "dtypes: float64(2), int64(5)\n",
      "memory usage: 10.1 KB\n"
     ]
    }
   ],
   "source": [
    "df = pd.DataFrame(df)\n",
    "df.info()"
   ]
  },
  {
   "cell_type": "code",
   "execution_count": 5,
   "id": "87854ad8",
   "metadata": {},
   "outputs": [
    {
     "name": "stdout",
     "output_type": "stream",
     "text": [
      "<class 'pandas.core.frame.DataFrame'>\n",
      "RangeIndex: 183 entries, 0 to 182\n",
      "Data columns (total 7 columns):\n",
      " #   Column                   Non-Null Count  Dtype  \n",
      "---  ------                   --------------  -----  \n",
      " 0   LengthofCycle            183 non-null    int64  \n",
      " 1   EstimatedDayofOvulation  183 non-null    int64  \n",
      " 2   LengthofMenses           183 non-null    int64  \n",
      " 3   Age                      183 non-null    int64  \n",
      " 4   Height                   183 non-null    float64\n",
      " 5   Weight                   183 non-null    int64  \n",
      " 6   BMI                      183 non-null    float64\n",
      "dtypes: float64(2), int64(5)\n",
      "memory usage: 10.1 KB\n"
     ]
    }
   ],
   "source": [
    "\n",
    "df.info()\n",
    "\n",
    "df.isnull().sum()\n",
    "\n",
    "df[\"Height\"] = df[\"Height\"].fillna(df[\"Height\"].mean())\n",
    "\n",
    "df[\"BMI\"] = df[\"BMI\"].fillna(df[\"BMI\"].mean())\n",
    "\n"
   ]
  },
  {
   "cell_type": "code",
   "execution_count": 6,
   "id": "4fd1a017",
   "metadata": {},
   "outputs": [
    {
     "data": {
      "text/plain": [
       "0.7242343319781019"
      ]
     },
     "execution_count": 6,
     "metadata": {},
     "output_type": "execute_result"
    }
   ],
   "source": [
    "X = df.drop('LengthofCycle',axis='columns')\n",
    "y = df.LengthofCycle\n",
    "\n",
    "\n",
    "from sklearn.model_selection import train_test_split\n",
    "X_train, X_test, y_train, y_test = train_test_split(X,y,test_size=0.3,random_state=42)\n",
    "\n",
    "from sklearn.linear_model import LinearRegression\n",
    "model = LinearRegression()\n",
    "model.fit(X_train,y_train)\n",
    "model.score(X_test, y_test)\n",
    "\n"
   ]
  },
  {
   "cell_type": "code",
   "execution_count": 7,
   "id": "4e2121b2",
   "metadata": {},
   "outputs": [
    {
     "name": "stdout",
     "output_type": "stream",
     "text": [
      "<class 'pandas.core.frame.DataFrame'>\n",
      "RangeIndex: 183 entries, 0 to 182\n",
      "Data columns (total 7 columns):\n",
      " #   Column                   Non-Null Count  Dtype  \n",
      "---  ------                   --------------  -----  \n",
      " 0   LengthofCycle            183 non-null    int64  \n",
      " 1   EstimatedDayofOvulation  183 non-null    int64  \n",
      " 2   LengthofMenses           183 non-null    int64  \n",
      " 3   Age                      183 non-null    int64  \n",
      " 4   Height                   183 non-null    float64\n",
      " 5   Weight                   183 non-null    int64  \n",
      " 6   BMI                      183 non-null    float64\n",
      "dtypes: float64(2), int64(5)\n",
      "memory usage: 10.1 KB\n"
     ]
    }
   ],
   "source": [
    "df.info()"
   ]
  },
  {
   "cell_type": "code",
   "execution_count": 8,
   "id": "a80c3790",
   "metadata": {},
   "outputs": [
    {
     "data": {
      "text/plain": [
       "array([25.76815329])"
      ]
     },
     "execution_count": 8,
     "metadata": {},
     "output_type": "execute_result"
    }
   ],
   "source": [
    "a = {\n",
    "    \"EstimatedDayofOvulation\":[14],\n",
    "    \"LengthofMenses\":[5],\n",
    "    \"Age\":[26], \n",
    "    \"Height\":[63],\n",
    "    \"Weight\":[120],\n",
    "    \"BMI\":[21.25] \n",
    "       }\n",
    "\n",
    "a = pd.DataFrame(a)\n",
    "a\n",
    "\n",
    "\n",
    "model.predict(a)"
   ]
  },
  {
   "cell_type": "code",
   "execution_count": null,
   "id": "f8f3f6a6",
   "metadata": {},
   "outputs": [],
   "source": []
  }
 ],
 "metadata": {
  "kernelspec": {
   "display_name": "Python 3",
   "language": "python",
   "name": "python3"
  },
  "language_info": {
   "codemirror_mode": {
    "name": "ipython",
    "version": 3
   },
   "file_extension": ".py",
   "mimetype": "text/x-python",
   "name": "python",
   "nbconvert_exporter": "python",
   "pygments_lexer": "ipython3",
   "version": "3.8.8"
  }
 },
 "nbformat": 4,
 "nbformat_minor": 5
}
